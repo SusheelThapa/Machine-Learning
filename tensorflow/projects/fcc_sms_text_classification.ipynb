{
  "cells": [
    {
      "cell_type": "markdown",
      "metadata": {
        "id": "view-in-github",
        "colab_type": "text"
      },
      "source": [
        "<a href=\"https://colab.research.google.com/github/SusheelThapa/ML-From-Scratch/blob/tfProject/tensorflow/projects/fcc_sms_text_classification.ipynb\" target=\"_parent\"><img src=\"https://colab.research.google.com/assets/colab-badge.svg\" alt=\"Open In Colab\"/></a>"
      ]
    },
    {
      "cell_type": "markdown",
      "source": [
        "# SMS Text Classification"
      ],
      "metadata": {
        "id": "sNnsA4vjeRLp"
      }
    },
    {
      "cell_type": "markdown",
      "source": [
        "## Importing the necessary packages"
      ],
      "metadata": {
        "id": "PU4Ael3tUFEj"
      }
    },
    {
      "cell_type": "code",
      "execution_count": 1,
      "metadata": {
        "id": "8RZOuS9LWQvv"
      },
      "outputs": [],
      "source": [
        "import tensorflow as tf\n",
        "import pandas as pd\n",
        "from tensorflow import keras\n",
        "import tensorflow_datasets as tfds\n",
        "import numpy as np\n",
        "import matplotlib.pyplot as plt\n"
      ]
    },
    {
      "cell_type": "markdown",
      "source": [
        "## Getting dataset"
      ],
      "metadata": {
        "id": "IoYjcx-WUJk0"
      }
    },
    {
      "cell_type": "code",
      "execution_count": 2,
      "metadata": {
        "id": "lMHwYXHXCar3",
        "colab": {
          "base_uri": "https://localhost:8080/"
        },
        "outputId": "c06aba74-d9f5-4d9c-be59-c3efab914279"
      },
      "outputs": [
        {
          "output_type": "stream",
          "name": "stdout",
          "text": [
            "--2023-05-10 06:44:26--  https://cdn.freecodecamp.org/project-data/sms/train-data.tsv\n",
            "Resolving cdn.freecodecamp.org (cdn.freecodecamp.org)... 104.26.2.33, 172.67.70.149, 104.26.3.33, ...\n",
            "Connecting to cdn.freecodecamp.org (cdn.freecodecamp.org)|104.26.2.33|:443... connected.\n",
            "HTTP request sent, awaiting response... 200 OK\n",
            "Length: 358233 (350K) [text/tab-separated-values]\n",
            "Saving to: ‘train-data.tsv’\n",
            "\n",
            "\rtrain-data.tsv        0%[                    ]       0  --.-KB/s               \rtrain-data.tsv      100%[===================>] 349.84K  --.-KB/s    in 0.004s  \n",
            "\n",
            "2023-05-10 06:44:26 (81.3 MB/s) - ‘train-data.tsv’ saved [358233/358233]\n",
            "\n",
            "--2023-05-10 06:44:26--  https://cdn.freecodecamp.org/project-data/sms/valid-data.tsv\n",
            "Resolving cdn.freecodecamp.org (cdn.freecodecamp.org)... 104.26.2.33, 172.67.70.149, 104.26.3.33, ...\n",
            "Connecting to cdn.freecodecamp.org (cdn.freecodecamp.org)|104.26.2.33|:443... connected.\n",
            "HTTP request sent, awaiting response... 200 OK\n",
            "Length: 118774 (116K) [text/tab-separated-values]\n",
            "Saving to: ‘valid-data.tsv’\n",
            "\n",
            "valid-data.tsv      100%[===================>] 115.99K  --.-KB/s    in 0.004s  \n",
            "\n",
            "2023-05-10 06:44:26 (29.0 MB/s) - ‘valid-data.tsv’ saved [118774/118774]\n",
            "\n"
          ]
        }
      ],
      "source": [
        "# get data files\n",
        "!wget https://cdn.freecodecamp.org/project-data/sms/train-data.tsv\n",
        "!wget https://cdn.freecodecamp.org/project-data/sms/valid-data.tsv\n",
        "\n",
        "train_file_path = \"train-data.tsv\"\n",
        "test_file_path = \"valid-data.tsv\""
      ]
    },
    {
      "cell_type": "markdown",
      "source": [
        "## Loading Dataset into dataframe"
      ],
      "metadata": {
        "id": "ERoCKGS5UVYc"
      }
    },
    {
      "cell_type": "code",
      "source": [
        "col_names = ['label','messages']\n",
        "\n",
        "# Adding sep=\"\\t\" as data is in tsv format\n",
        "train_dataset = pd.read_csv(train_file_path,sep='\\t' ,names=col_names)\n",
        "test_dataset = pd.read_csv(test_file_path,sep='\\t', names=col_names)"
      ],
      "metadata": {
        "id": "bQXiZQCF7FoL"
      },
      "execution_count": 3,
      "outputs": []
    },
    {
      "cell_type": "markdown",
      "source": [
        "## Preprocessing Dataset\n",
        "\n",
        "When we look into our data using `head()` method we can see that we have two column \"messages\" and \"label\". And label define whether our message is spam or ham.\n",
        "\n",
        "We will encode ham as '0' and spam as '1'."
      ],
      "metadata": {
        "id": "P3fUFitBUZy4"
      }
    },
    {
      "cell_type": "code",
      "source": [
        "label_dict = {\n",
        "    \"ham\":0,\n",
        "    \"spam\":1\n",
        "}\n",
        "\n",
        "train_dataset['msg_type'] = train_dataset['label'].map(label_dict)\n",
        "test_dataset['msg_type'] = train_dataset['label'].map(label_dict)"
      ],
      "metadata": {
        "id": "FHGukLFxB4Tu"
      },
      "execution_count": 4,
      "outputs": []
    },
    {
      "cell_type": "code",
      "source": [
        "train_X = train_dataset['messages']\n",
        "train_y = train_dataset['msg_type']\n",
        "\n",
        "test_X = test_dataset['messages']\n",
        "test_y = test_dataset['msg_type']"
      ],
      "metadata": {
        "id": "SgIPFMoeEUpd"
      },
      "execution_count": 6,
      "outputs": []
    },
    {
      "cell_type": "markdown",
      "source": [
        "## Tokenization\n"
      ],
      "metadata": {
        "id": "LQ-a4Sv1EuQS"
      }
    },
    {
      "cell_type": "code",
      "source": [
        "vocab_size = 700 # Setting some arbitary value\n",
        "\n",
        "tokenizer = tf.keras.preprocessing.text.Tokenizer(\n",
        "    num_words=vocab_size,\n",
        "    char_level=False,\n",
        "    oov_token=\"\",\n",
        ")\n",
        "\n",
        "tokenizer.fit_on_texts(train_X)"
      ],
      "metadata": {
        "id": "ahcRv1UTCiy5"
      },
      "execution_count": 22,
      "outputs": []
    },
    {
      "cell_type": "code",
      "source": [
        "word_index = tokenizer.word_index\n",
        "print(\"Unique Words= \",len(word_index))"
      ],
      "metadata": {
        "colab": {
          "base_uri": "https://localhost:8080/"
        },
        "id": "ECO7D1PLHSRX",
        "outputId": "00eba72a-a4f9-4f2a-d0b0-ebaab6efba38"
      },
      "execution_count": 23,
      "outputs": [
        {
          "output_type": "stream",
          "name": "stdout",
          "text": [
            "Unique Words=  7693\n"
          ]
        }
      ]
    },
    {
      "cell_type": "markdown",
      "source": [
        "## Sequencing and Padding"
      ],
      "metadata": {
        "id": "Zld9m84vHtWb"
      }
    },
    {
      "cell_type": "code",
      "source": [
        "train_X_seq = tokenizer.texts_to_sequences(train_X)\n",
        "train_padding = keras.preprocessing.sequence.pad_sequences(train_X_seq, maxlen=50, \n",
        "                                                             padding=\"post\", truncating=\"post\")\n",
        "test_X_seq = tokenizer.texts_to_sequences(test_X)\n",
        "test_padding = keras.preprocessing.sequence.pad_sequences(test_X_seq, maxlen=50, \n",
        "                                                             padding=\"post\", truncating=\"post\")"
      ],
      "metadata": {
        "id": "HxF91AazHv8B"
      },
      "execution_count": 24,
      "outputs": []
    },
    {
      "cell_type": "code",
      "source": [
        "train_padding.shape"
      ],
      "metadata": {
        "colab": {
          "base_uri": "https://localhost:8080/"
        },
        "id": "xBpTDni8It17",
        "outputId": "7ef48e5a-e4c5-4ab0-e0b6-d854a8ef45e1"
      },
      "execution_count": 10,
      "outputs": [
        {
          "output_type": "execute_result",
          "data": {
            "text/plain": [
              "(4179, 50)"
            ]
          },
          "metadata": {},
          "execution_count": 10
        }
      ]
    },
    {
      "cell_type": "markdown",
      "source": [
        "## Creating a model"
      ],
      "metadata": {
        "id": "0lAG5yZWIvvw"
      }
    },
    {
      "cell_type": "code",
      "source": [
        "\n",
        "model = tf.keras.Sequential([\n",
        "  tf.keras.layers.Embedding(vocab_size, 50,input_length=50),\n",
        "  tf.keras.layers.GlobalAveragePooling1D(),\n",
        "  tf.keras.layers.Dense(24, activation='relu'),\n",
        "  tf.keras.layers.Dense(1,activation='sigmoid')])\n"
      ],
      "metadata": {
        "id": "uHKXlLFrIyW5"
      },
      "execution_count": 41,
      "outputs": []
    },
    {
      "cell_type": "code",
      "source": [
        "model.summary()"
      ],
      "metadata": {
        "colab": {
          "base_uri": "https://localhost:8080/"
        },
        "id": "lrGnL_nEJ0Za",
        "outputId": "1839c2cd-179e-424b-f9c8-a958ed60c93a"
      },
      "execution_count": 42,
      "outputs": [
        {
          "output_type": "stream",
          "name": "stdout",
          "text": [
            "Model: \"sequential_4\"\n",
            "_________________________________________________________________\n",
            " Layer (type)                Output Shape              Param #   \n",
            "=================================================================\n",
            " embedding_4 (Embedding)     (None, 50, 50)            35000     \n",
            "                                                                 \n",
            " global_average_pooling1d_1   (None, 50)               0         \n",
            " (GlobalAveragePooling1D)                                        \n",
            "                                                                 \n",
            " dense_5 (Dense)             (None, 24)                1224      \n",
            "                                                                 \n",
            " dense_6 (Dense)             (None, 1)                 25        \n",
            "                                                                 \n",
            "=================================================================\n",
            "Total params: 36,249\n",
            "Trainable params: 36,249\n",
            "Non-trainable params: 0\n",
            "_________________________________________________________________\n"
          ]
        }
      ]
    },
    {
      "cell_type": "code",
      "source": [
        "model.compile(optimizer='adam',loss=\"binary_crossentropy\", metrics=['accuracy'])"
      ],
      "metadata": {
        "id": "bKrjLkXYJ4-Q"
      },
      "execution_count": 43,
      "outputs": []
    },
    {
      "cell_type": "code",
      "source": [
        "model.fit(train_padding, train_y,epochs=20,validation_data=(test_padding,test_y))"
      ],
      "metadata": {
        "colab": {
          "base_uri": "https://localhost:8080/"
        },
        "id": "GNxpaDHLKM7D",
        "outputId": "519f9619-3cba-47ad-e509-5ee2447dba3d"
      },
      "execution_count": 44,
      "outputs": [
        {
          "output_type": "stream",
          "name": "stdout",
          "text": [
            "Epoch 1/20\n",
            "131/131 [==============================] - 11s 73ms/step - loss: 0.5098 - accuracy: 0.8382 - val_loss: 0.3742 - val_accuracy: 0.8807\n",
            "Epoch 2/20\n",
            "131/131 [==============================] - 3s 21ms/step - loss: 0.2663 - accuracy: 0.8660 - val_loss: 0.4280 - val_accuracy: 0.8807\n",
            "Epoch 3/20\n",
            "131/131 [==============================] - 2s 16ms/step - loss: 0.1643 - accuracy: 0.9390 - val_loss: 0.5810 - val_accuracy: 0.7974\n",
            "Epoch 4/20\n",
            "131/131 [==============================] - 1s 11ms/step - loss: 0.0880 - accuracy: 0.9725 - val_loss: 0.7637 - val_accuracy: 0.7931\n",
            "Epoch 5/20\n",
            "131/131 [==============================] - 1s 8ms/step - loss: 0.0599 - accuracy: 0.9818 - val_loss: 0.9084 - val_accuracy: 0.7909\n",
            "Epoch 6/20\n",
            "131/131 [==============================] - 1s 9ms/step - loss: 0.0475 - accuracy: 0.9854 - val_loss: 1.0278 - val_accuracy: 0.7874\n",
            "Epoch 7/20\n",
            "131/131 [==============================] - 1s 9ms/step - loss: 0.0409 - accuracy: 0.9871 - val_loss: 1.1196 - val_accuracy: 0.7874\n",
            "Epoch 8/20\n",
            "131/131 [==============================] - 1s 7ms/step - loss: 0.0349 - accuracy: 0.9895 - val_loss: 1.1990 - val_accuracy: 0.7852\n",
            "Epoch 9/20\n",
            "131/131 [==============================] - 1s 6ms/step - loss: 0.0303 - accuracy: 0.9899 - val_loss: 1.2842 - val_accuracy: 0.7859\n",
            "Epoch 10/20\n",
            "131/131 [==============================] - 1s 6ms/step - loss: 0.0268 - accuracy: 0.9923 - val_loss: 1.3643 - val_accuracy: 0.7852\n",
            "Epoch 11/20\n",
            "131/131 [==============================] - 1s 7ms/step - loss: 0.0243 - accuracy: 0.9928 - val_loss: 1.4451 - val_accuracy: 0.7881\n",
            "Epoch 12/20\n",
            "131/131 [==============================] - 1s 5ms/step - loss: 0.0214 - accuracy: 0.9928 - val_loss: 1.4953 - val_accuracy: 0.7838\n",
            "Epoch 13/20\n",
            "131/131 [==============================] - 1s 7ms/step - loss: 0.0196 - accuracy: 0.9933 - val_loss: 1.5730 - val_accuracy: 0.7874\n",
            "Epoch 14/20\n",
            "131/131 [==============================] - 1s 5ms/step - loss: 0.0168 - accuracy: 0.9943 - val_loss: 1.6456 - val_accuracy: 0.7852\n",
            "Epoch 15/20\n",
            "131/131 [==============================] - 1s 6ms/step - loss: 0.0151 - accuracy: 0.9957 - val_loss: 1.6958 - val_accuracy: 0.7823\n",
            "Epoch 16/20\n",
            "131/131 [==============================] - 1s 10ms/step - loss: 0.0140 - accuracy: 0.9959 - val_loss: 1.7540 - val_accuracy: 0.7838\n",
            "Epoch 17/20\n",
            "131/131 [==============================] - 1s 7ms/step - loss: 0.0127 - accuracy: 0.9966 - val_loss: 1.8178 - val_accuracy: 0.7866\n",
            "Epoch 18/20\n",
            "131/131 [==============================] - 1s 5ms/step - loss: 0.0114 - accuracy: 0.9974 - val_loss: 1.8715 - val_accuracy: 0.7859\n",
            "Epoch 19/20\n",
            "131/131 [==============================] - 1s 8ms/step - loss: 0.0105 - accuracy: 0.9974 - val_loss: 1.9228 - val_accuracy: 0.7845\n",
            "Epoch 20/20\n",
            "131/131 [==============================] - 1s 5ms/step - loss: 0.0097 - accuracy: 0.9976 - val_loss: 1.9775 - val_accuracy: 0.7845\n"
          ]
        },
        {
          "output_type": "execute_result",
          "data": {
            "text/plain": [
              "<keras.callbacks.History at 0x7fafff1f4d30>"
            ]
          },
          "metadata": {},
          "execution_count": 44
        }
      ]
    },
    {
      "cell_type": "code",
      "source": [
        "model.evaluate(test_padding, test_y)"
      ],
      "metadata": {
        "id": "FnIOPI-_ZfGK",
        "colab": {
          "base_uri": "https://localhost:8080/"
        },
        "outputId": "2c87272b-5464-442e-e281-1ac786c167c2"
      },
      "execution_count": 45,
      "outputs": [
        {
          "output_type": "stream",
          "name": "stdout",
          "text": [
            "44/44 [==============================] - 0s 6ms/step - loss: 1.9775 - accuracy: 0.7845\n"
          ]
        },
        {
          "output_type": "execute_result",
          "data": {
            "text/plain": [
              "[1.9774609804153442, 0.7844827771186829]"
            ]
          },
          "metadata": {},
          "execution_count": 45
        }
      ]
    },
    {
      "cell_type": "markdown",
      "source": [
        "## Predict Function"
      ],
      "metadata": {
        "id": "ECDp7_i0eF4u"
      }
    },
    {
      "cell_type": "code",
      "execution_count": 46,
      "metadata": {
        "id": "J9tD9yACG6M9",
        "colab": {
          "base_uri": "https://localhost:8080/"
        },
        "outputId": "17befb4b-89fc-4115-f2e1-ba1b682cef51"
      },
      "outputs": [
        {
          "output_type": "stream",
          "name": "stdout",
          "text": [
            "1/1 [==============================] - 0s 48ms/step\n",
            "[0.00028342954, 'ham']\n"
          ]
        }
      ],
      "source": [
        "# function to predict messages based on model\n",
        "# (should return list containing prediction and label, ex. [0.008318834938108921, 'ham'])\n",
        "def predict_message(pred_text):\n",
        "    pred_text_tokenize = tokenizer.texts_to_sequences([pred_text])\n",
        "    pred_text_padding =  keras.preprocessing.sequence.pad_sequences(pred_text_tokenize, maxlen=50, \n",
        "                                                             padding=\"post\", truncating=\"post\")\n",
        "\n",
        "    predict = model.predict(pred_text_padding)[0][0]\n",
        "\n",
        "    if predict>0.5:\n",
        "        prediction = [predict,'spam']\n",
        "    else:\n",
        "        prediction = [predict,'ham']\n",
        "\n",
        "    return (prediction)\n",
        "\n",
        "pred_text = \"how are you doing today?\"\n",
        "\n",
        "prediction = predict_message(pred_text)\n",
        "print(prediction)"
      ]
    },
    {
      "cell_type": "markdown",
      "source": [
        "## Test from freecode camp"
      ],
      "metadata": {
        "id": "Bun_FOmbeK78"
      }
    },
    {
      "cell_type": "code",
      "execution_count": 48,
      "metadata": {
        "id": "Dxotov85SjsC",
        "colab": {
          "base_uri": "https://localhost:8080/"
        },
        "outputId": "fc770ded-8abe-4e63-d6da-172b18337963"
      },
      "outputs": [
        {
          "output_type": "stream",
          "name": "stdout",
          "text": [
            "1/1 [==============================] - 0s 22ms/step\n",
            "1/1 [==============================] - 0s 19ms/step\n",
            "1/1 [==============================] - 0s 17ms/step\n",
            "1/1 [==============================] - 0s 18ms/step\n",
            "1/1 [==============================] - 0s 18ms/step\n",
            "1/1 [==============================] - 0s 18ms/step\n",
            "1/1 [==============================] - 0s 19ms/step\n",
            "You passed the challenge. Great job!\n"
          ]
        }
      ],
      "source": [
        "# Run this cell to test your function and model. Do not modify contents.\n",
        "def test_predictions():\n",
        "  test_messages = [\"how are you doing today\",\n",
        "                   \"sale today! to stop texts call 98912460324\",\n",
        "                   \"i dont want to go. can we try it a different day? available sat\",\n",
        "                   \"our new mobile video service is live. just install on your phone to start watching.\",\n",
        "                   \"you have won £1000 cash! call to claim your prize.\",\n",
        "                   \"i'll bring it tomorrow. don't forget the milk.\",\n",
        "                   \"wow, is your arm alright. that happened to me one time too\"\n",
        "                  ]\n",
        "\n",
        "  test_answers = [\"ham\", \"spam\", \"ham\", \"spam\", \"spam\", \"ham\", \"ham\"]\n",
        "  passed = True\n",
        "\n",
        "  for msg, ans in zip(test_messages, test_answers):\n",
        "    prediction = predict_message(msg)\n",
        "    if prediction[1] != ans:\n",
        "      passed = False\n",
        "\n",
        "  if passed:\n",
        "    print(\"You passed the challenge. Great job!\")\n",
        "  else:\n",
        "    print(\"You haven't passed yet. Keep trying.\")\n",
        "\n",
        "test_predictions()\n"
      ]
    }
  ],
  "metadata": {
    "colab": {
      "provenance": [],
      "gpuType": "T4",
      "include_colab_link": true
    },
    "kernelspec": {
      "display_name": "Python 3",
      "name": "python3"
    },
    "language_info": {},
    "gpuClass": "standard",
    "accelerator": "GPU"
  },
  "nbformat": 4,
  "nbformat_minor": 0
}