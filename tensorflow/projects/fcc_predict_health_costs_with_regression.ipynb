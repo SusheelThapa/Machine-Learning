{
  "cells": [
    {
      "cell_type": "markdown",
      "metadata": {
        "id": "view-in-github",
        "colab_type": "text"
      },
      "source": [
        "<a href=\"https://colab.research.google.com/github/SusheelThapa/ML-From-Scratch/blob/tfProject/tensorflow/projects/fcc_predict_health_costs_with_regression.ipynb\" target=\"_parent\"><img src=\"https://colab.research.google.com/assets/colab-badge.svg\" alt=\"Open In Colab\"/></a>"
      ]
    },
    {
      "cell_type": "markdown",
      "source": [
        "# Predict Health Cost with Linear Regression"
      ],
      "metadata": {
        "id": "myr6wK-HQOyP"
      }
    },
    {
      "cell_type": "markdown",
      "source": [
        "## Tasking to be done\n",
        "\n",
        "- [X] Loading the dataset from [here](https://cdn.freecodecamp.org/project-data/health-costs/insurance.csv)\n",
        "- [X] Seperating the features and label dataset\n",
        "- [ ] Converting non-numeric data into numeric data\n",
        "- [ ]\n",
        "- [ ]\n",
        "- [ ]\n",
        "- [ ]\n",
        "- [ ]\n",
        "- [ ]\n",
        "- [ ]\n",
        "- [ ]\n",
        "- [ ]\n",
        "- [ ]\n"
      ],
      "metadata": {
        "id": "0UbXYce6RENy"
      }
    },
    {
      "cell_type": "markdown",
      "source": [
        "## Importing necessary packages"
      ],
      "metadata": {
        "id": "78D2LQGKQccz"
      }
    },
    {
      "cell_type": "code",
      "execution_count": null,
      "metadata": {
        "id": "1rRo8oNqZ-Rj"
      },
      "outputs": [],
      "source": [
        "# Import libraries. You may or may not use all of these.\n",
        "import matplotlib.pyplot as plt\n",
        "import numpy as np\n",
        "import pandas as pd\n",
        "\n",
        "import tensorflow as tf\n",
        "\n",
        "from tensorflow import keras\n",
        "from tensorflow.keras import layers\n"
      ]
    },
    {
      "cell_type": "markdown",
      "source": [
        "## Loading the datasets"
      ],
      "metadata": {
        "id": "_rL8qDI4Qfu9"
      }
    },
    {
      "cell_type": "code",
      "execution_count": null,
      "metadata": {
        "id": "CiX2FI4gZtTt"
      },
      "outputs": [],
      "source": [
        "# Import data\n",
        "!wget https://cdn.freecodecamp.org/project-data/health-costs/insurance.csv\n",
        "dataset = pd.read_csv('insurance.csv')"
      ]
    },
    {
      "cell_type": "markdown",
      "source": [
        "## Visualizing the datasets"
      ],
      "metadata": {
        "id": "Oy9bSQiFV-pi"
      }
    },
    {
      "cell_type": "code",
      "source": [
        "dataset.head()"
      ],
      "metadata": {
        "id": "rWNWEkYuWLpQ"
      },
      "execution_count": null,
      "outputs": []
    },
    {
      "cell_type": "code",
      "source": [
        "dataset.age.hist(bins=20)"
      ],
      "metadata": {
        "id": "Gu0Wnx9FWPFA"
      },
      "execution_count": null,
      "outputs": []
    },
    {
      "cell_type": "code",
      "source": [
        "dataset.sex.value_counts().plot(kind='barh')"
      ],
      "metadata": {
        "id": "Y5mgVnv4WdAK"
      },
      "execution_count": null,
      "outputs": []
    },
    {
      "cell_type": "code",
      "source": [
        "dataset['region'].value_counts().plot(kind='barh')"
      ],
      "metadata": {
        "id": "4Or07nW9W5c-"
      },
      "execution_count": null,
      "outputs": []
    },
    {
      "cell_type": "code",
      "source": [
        "dataset['smoker'].value_counts().plot(kind='barh')"
      ],
      "metadata": {
        "id": "LK-eNWozXSA4"
      },
      "execution_count": null,
      "outputs": []
    },
    {
      "cell_type": "code",
      "source": [
        "dataset['children'].value_counts().plot(kind='barh')"
      ],
      "metadata": {
        "id": "3U2YVt72XT1k"
      },
      "execution_count": null,
      "outputs": []
    },
    {
      "cell_type": "markdown",
      "source": [
        "After analyzing this information we should notice the following:\n",
        "- Equal number of female and male\n",
        "- Most of the individual doesn't have children\n",
        "- Less number of people are smoker.\n",
        "- More number of people lives in southeast whereas people living it other place are almost equal"
      ],
      "metadata": {
        "id": "zN0x2NEyXrus"
      }
    },
    {
      "cell_type": "markdown",
      "source": [
        "## Seperating features and label from dataset\n",
        "\n",
        "First of all, let's look at the datasets."
      ],
      "metadata": {
        "id": "Z_jDl8hMSfkS"
      }
    },
    {
      "cell_type": "code",
      "source": [
        "dataset.head()"
      ],
      "metadata": {
        "id": "ohYMyCHOSpwf"
      },
      "execution_count": null,
      "outputs": []
    },
    {
      "cell_type": "markdown",
      "source": [
        "By looking at the above data we can say the ***expenses*** is **label** and other are the features."
      ],
      "metadata": {
        "id": "YHuuwZLsSr1F"
      }
    },
    {
      "cell_type": "code",
      "source": [
        "labels = dataset.pop(\"expenses\")\n",
        "features = dataset"
      ],
      "metadata": {
        "id": "G5NRKea7S7hz"
      },
      "execution_count": null,
      "outputs": []
    },
    {
      "cell_type": "markdown",
      "source": [
        "## Seperating Training and Testing data\n"
      ],
      "metadata": {
        "id": "bARgwTRHU_vU"
      }
    },
    {
      "cell_type": "code",
      "source": [
        "TOTAL_TRAINING_DATA = int(0.8 * len(features))\n",
        "\n",
        "# Training dataset\n",
        "train_features = features[:TOTAL_TRAINING_DATA]\n",
        "train_labels = labels[:TOTAL_TRAINING_DATA]\n",
        "\n",
        "# Testing dataset\n",
        "test_features = features[TOTAL_TRAINING_DATA:]\n",
        "test_labels = labels[TOTAL_TRAINING_DATA:]"
      ],
      "metadata": {
        "id": "bxmFMbFjVH_B"
      },
      "execution_count": null,
      "outputs": []
    },
    {
      "cell_type": "code",
      "source": [
        "train_features.shape, train_labels.shape, test_features.shape, test_labels.shape"
      ],
      "metadata": {
        "id": "Yb-HCyCodz-R"
      },
      "execution_count": null,
      "outputs": []
    },
    {
      "cell_type": "markdown",
      "source": [
        "## Preprocessing the datasets\n",
        "\n",
        "First lets look at the data"
      ],
      "metadata": {
        "id": "y1DVLRVSQsWd"
      }
    },
    {
      "cell_type": "code",
      "execution_count": null,
      "metadata": {
        "id": "LcopvQh3X-kX"
      },
      "outputs": [],
      "source": [
        "dataset.head()"
      ]
    },
    {
      "cell_type": "markdown",
      "source": [
        "## Testing function giving by Free Code camp"
      ],
      "metadata": {
        "id": "MRu0FJfBaUwW"
      }
    },
    {
      "cell_type": "code",
      "execution_count": null,
      "metadata": {
        "id": "Xe7RXH3N3CWU"
      },
      "outputs": [],
      "source": [
        "# RUN THIS CELL TO TEST YOUR MODEL. DO NOT MODIFY CONTENTS.\n",
        "# Test model by checking how well the model generalizes using the test set.\n",
        "loss, mae, mse = model.evaluate(test_dataset, test_labels, verbose=2)\n",
        "\n",
        "print(\"Testing set Mean Abs Error: {:5.2f} expenses\".format(mae))\n",
        "\n",
        "if mae < 3500:\n",
        "  print(\"You passed the challenge. Great job!\")\n",
        "else:\n",
        "  print(\"The Mean Abs Error must be less than 3500. Keep trying.\")\n",
        "\n",
        "# Plot predictions.\n",
        "test_predictions = model.predict(test_dataset).flatten()\n",
        "\n",
        "a = plt.axes(aspect='equal')\n",
        "plt.scatter(test_labels, test_predictions)\n",
        "plt.xlabel('True values (expenses)')\n",
        "plt.ylabel('Predictions (expenses)')\n",
        "lims = [0, 50000]\n",
        "plt.xlim(lims)\n",
        "plt.ylim(lims)\n",
        "_ = plt.plot(lims,lims)\n"
      ]
    }
  ],
  "metadata": {
    "colab": {
      "name": "fcc_predict_health_costs_with_regression.ipynb",
      "private_outputs": true,
      "provenance": [],
      "toc_visible": true,
      "include_colab_link": true
    },
    "kernelspec": {
      "display_name": "Python 3",
      "name": "python3"
    }
  },
  "nbformat": 4,
  "nbformat_minor": 0
}