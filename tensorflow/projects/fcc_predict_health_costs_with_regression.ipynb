{
  "cells": [
    {
      "cell_type": "markdown",
      "metadata": {
        "id": "view-in-github",
        "colab_type": "text"
      },
      "source": [
        "<a href=\"https://colab.research.google.com/github/SusheelThapa/ML-From-Scratch/blob/tfProject/tensorflow/projects/fcc_predict_health_costs_with_regression.ipynb\" target=\"_parent\"><img src=\"https://colab.research.google.com/assets/colab-badge.svg\" alt=\"Open In Colab\"/></a>"
      ]
    },
    {
      "cell_type": "markdown",
      "source": [
        "# Predict Health Cost with Linear Regression"
      ],
      "metadata": {
        "id": "myr6wK-HQOyP"
      }
    },
    {
      "cell_type": "markdown",
      "source": [
        "## Tasking to be done\n",
        "\n",
        "- [X] Loading the dataset from [here](https://cdn.freecodecamp.org/project-data/health-costs/insurance.csv)\n",
        "- [X] Visualizing the Datasets\n",
        "- [X] Preprocessing the dataset(**One hot encoding**)\n",
        "- [X] Seperating training and testing dataset\n",
        "- [X] Normalizer Layer\n",
        "- [X] Linear Regression with Deep Neural Network\n",
        "    - [X] Building and Compiling the model\n",
        "    - [X] Creating the model\n",
        "    - [X] Training the model\n",
        "- [X] Testing the model\n"
      ],
      "metadata": {
        "id": "0UbXYce6RENy"
      }
    },
    {
      "cell_type": "markdown",
      "source": [
        "## Importing necessary packages"
      ],
      "metadata": {
        "id": "78D2LQGKQccz"
      }
    },
    {
      "cell_type": "code",
      "execution_count": null,
      "metadata": {
        "id": "1rRo8oNqZ-Rj"
      },
      "outputs": [],
      "source": [
        "# Import libraries. You may or may not use all of these.\n",
        "import matplotlib.pyplot as plt\n",
        "import numpy as np\n",
        "import pandas as pd\n",
        "\n",
        "import tensorflow as tf\n",
        "\n",
        "from tensorflow import keras\n",
        "from tensorflow.keras import layers\n"
      ]
    },
    {
      "cell_type": "markdown",
      "source": [
        "## Loading the datasets"
      ],
      "metadata": {
        "id": "_rL8qDI4Qfu9"
      }
    },
    {
      "cell_type": "code",
      "execution_count": null,
      "metadata": {
        "id": "CiX2FI4gZtTt"
      },
      "outputs": [],
      "source": [
        "# Import data\n",
        "!wget https://cdn.freecodecamp.org/project-data/health-costs/insurance.csv\n",
        "dataset = pd.read_csv('insurance.csv')"
      ]
    },
    {
      "cell_type": "markdown",
      "source": [
        "## Visualizing the datasets"
      ],
      "metadata": {
        "id": "Oy9bSQiFV-pi"
      }
    },
    {
      "cell_type": "code",
      "source": [
        "dataset.head()"
      ],
      "metadata": {
        "id": "rWNWEkYuWLpQ"
      },
      "execution_count": null,
      "outputs": []
    },
    {
      "cell_type": "code",
      "source": [
        "dataset.age.hist(bins=20)"
      ],
      "metadata": {
        "id": "Gu0Wnx9FWPFA"
      },
      "execution_count": null,
      "outputs": []
    },
    {
      "cell_type": "code",
      "source": [
        "dataset.sex.value_counts().plot(kind='barh')"
      ],
      "metadata": {
        "id": "Y5mgVnv4WdAK"
      },
      "execution_count": null,
      "outputs": []
    },
    {
      "cell_type": "code",
      "source": [
        "dataset['region'].value_counts().plot(kind='barh')"
      ],
      "metadata": {
        "id": "4Or07nW9W5c-"
      },
      "execution_count": null,
      "outputs": []
    },
    {
      "cell_type": "code",
      "source": [
        "dataset['smoker'].value_counts().plot(kind='barh')"
      ],
      "metadata": {
        "id": "LK-eNWozXSA4"
      },
      "execution_count": null,
      "outputs": []
    },
    {
      "cell_type": "code",
      "source": [
        "dataset['children'].value_counts().plot(kind='barh')"
      ],
      "metadata": {
        "id": "3U2YVt72XT1k"
      },
      "execution_count": null,
      "outputs": []
    },
    {
      "cell_type": "markdown",
      "source": [
        "After analyzing this information we should notice the following:\n",
        "- Equal number of female and male\n",
        "- Most of the individual doesn't have children\n",
        "- Less number of people are smoker.\n",
        "- More number of people lives in southeast whereas people living it other place are almost equal"
      ],
      "metadata": {
        "id": "zN0x2NEyXrus"
      }
    },
    {
      "cell_type": "markdown",
      "source": [
        "## Preprocessing the datasets\n",
        "\n",
        "First lets look at the data"
      ],
      "metadata": {
        "id": "y1DVLRVSQsWd"
      }
    },
    {
      "cell_type": "code",
      "execution_count": null,
      "metadata": {
        "id": "LcopvQh3X-kX"
      },
      "outputs": [],
      "source": [
        "dataset.head()"
      ]
    },
    {
      "cell_type": "code",
      "source": [
        "dataset = pd.get_dummies(dataset, columns=['sex', 'smoker', 'region'], prefix=['', 'smoker_', ''], prefix_sep='')\n",
        "dataset.tail()"
      ],
      "metadata": {
        "id": "dukRsnEQqW-L"
      },
      "execution_count": null,
      "outputs": []
    },
    {
      "cell_type": "markdown",
      "source": [
        "## Seperating Training and Testing data\n"
      ],
      "metadata": {
        "id": "bARgwTRHU_vU"
      }
    },
    {
      "cell_type": "code",
      "source": [
        "train_dataset = dataset.sample(frac=0.8, random_state=0)\n",
        "test_dataset = dataset.drop(train_dataset.index)"
      ],
      "metadata": {
        "id": "bxmFMbFjVH_B"
      },
      "execution_count": null,
      "outputs": []
    },
    {
      "cell_type": "code",
      "source": [
        "train_labels = train_dataset.pop('expenses')\n",
        "test_labels = test_dataset.pop('expenses')"
      ],
      "metadata": {
        "id": "Ds9EMdRft7F-"
      },
      "execution_count": null,
      "outputs": []
    },
    {
      "cell_type": "markdown",
      "source": [
        "## Normalization\n"
      ],
      "metadata": {
        "id": "l-gINKuhqw9x"
      }
    },
    {
      "cell_type": "code",
      "source": [
        "train_dataset.describe().transpose()[['mean','std']]"
      ],
      "metadata": {
        "id": "bnJ7M7MKq1Lp"
      },
      "execution_count": null,
      "outputs": []
    },
    {
      "cell_type": "markdown",
      "source": [
        "### Creating normalization layer"
      ],
      "metadata": {
        "id": "gXbVulV_rNCS"
      }
    },
    {
      "cell_type": "code",
      "source": [
        "normalizer = tf.keras.layers.Normalization(axis=-1)"
      ],
      "metadata": {
        "id": "Qg6cjSYtrCqO"
      },
      "execution_count": null,
      "outputs": []
    },
    {
      "cell_type": "markdown",
      "source": [
        "###  Fitting the state of the normalization layer"
      ],
      "metadata": {
        "id": "9Yk8sCvarQoi"
      }
    },
    {
      "cell_type": "code",
      "source": [
        "normalizer.adapt(np.array(train_dataset))"
      ],
      "metadata": {
        "id": "hrTU2xoHrXa3"
      },
      "execution_count": null,
      "outputs": []
    },
    {
      "cell_type": "markdown",
      "source": [
        "## Linear Regression\n",
        "\n",
        "We will be creating linear regression model using Deep Neural N\n"
      ],
      "metadata": {
        "id": "0TYO4zWCsojX"
      }
    },
    {
      "cell_type": "markdown",
      "source": [
        "### Building and Compiling the model"
      ],
      "metadata": {
        "id": "6RDCayCy1McD"
      }
    },
    {
      "cell_type": "code",
      "source": [
        "def build_and_compile_model(norm):\n",
        "    model = keras.Sequential([\n",
        "      norm,\n",
        "      layers.Dense(128, activation='relu'),\n",
        "      layers.Dense(128, activation='relu'),\n",
        "      layers.Dense(1)\n",
        "    ])\n",
        "\n",
        "    model.compile(loss='mean_absolute_error',\n",
        "                optimizer=tf.keras.optimizers.Adam(0.1)\n",
        "        )\n",
        "    return model\n"
      ],
      "metadata": {
        "id": "Ei3QOYScssda"
      },
      "execution_count": null,
      "outputs": []
    },
    {
      "cell_type": "markdown",
      "source": [
        "### Creating the model"
      ],
      "metadata": {
        "id": "A2EXFjIV1PWb"
      }
    },
    {
      "cell_type": "code",
      "source": [
        "model = build_and_compile_model(normalizer)"
      ],
      "metadata": {
        "id": "1wtO8uwOs2gS"
      },
      "execution_count": null,
      "outputs": []
    },
    {
      "cell_type": "markdown",
      "source": [
        "### Training the model"
      ],
      "metadata": {
        "id": "0wzsOCeu1UDO"
      }
    },
    {
      "cell_type": "code",
      "source": [
        "history = model.fit(\n",
        "    train_dataset,\n",
        "    train_labels,\n",
        "    epochs=100,\n",
        "    verbose=0,\n",
        "    validation_split=0.2\n",
        ")"
      ],
      "metadata": {
        "id": "KBUP5HrltYxp"
      },
      "execution_count": null,
      "outputs": []
    },
    {
      "cell_type": "markdown",
      "source": [
        "## Testing function giving by Free Code camp"
      ],
      "metadata": {
        "id": "MRu0FJfBaUwW"
      }
    },
    {
      "cell_type": "code",
      "execution_count": null,
      "metadata": {
        "id": "Xe7RXH3N3CWU"
      },
      "outputs": [],
      "source": [
        "# RUN THIS CELL TO TEST YOUR MODEL. DO NOT MODIFY CONTENTS.\n",
        "# Test model by checking how well the model generalizes using the test set.\n",
        "mae = model.evaluate(test_dataset, test_labels, verbose=2)\n",
        "\n",
        "print(\"Testing set Mean Abs Error: {:5.2f} expenses\".format(mae))\n",
        "\n",
        "if mae < 3500:\n",
        "  print(\"You passed the challenge. Great job!\")\n",
        "else:\n",
        "  print(\"The Mean Abs Error must be less than 3500. Keep trying.\")\n",
        "\n",
        "# Plot predictions.\n",
        "test_predictions = model.predict(test_dataset).flatten()\n",
        "\n",
        "a = plt.axes(aspect='equal')\n",
        "plt.scatter(test_labels, test_predictions)\n",
        "plt.xlabel('True values (expenses)')\n",
        "plt.ylabel('Predictions (expenses)')\n",
        "lims = [0, 50000]\n",
        "plt.xlim(lims)\n",
        "plt.ylim(lims)\n",
        "_ = plt.plot(lims,lims)\n"
      ]
    },
    {
      "cell_type": "code",
      "source": [],
      "metadata": {
        "id": "et5JnNXOvXG7"
      },
      "execution_count": null,
      "outputs": []
    }
  ],
  "metadata": {
    "colab": {
      "name": "fcc_predict_health_costs_with_regression.ipynb",
      "private_outputs": true,
      "provenance": [],
      "include_colab_link": true
    },
    "kernelspec": {
      "display_name": "Python 3",
      "name": "python3"
    }
  },
  "nbformat": 4,
  "nbformat_minor": 0
}