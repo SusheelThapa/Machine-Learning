{
  "cells": [
    {
      "cell_type": "markdown",
      "metadata": {
        "id": "sNnsA4vjeRLp"
      },
      "source": [
        "# SMS Text Classification"
      ]
    },
    {
      "cell_type": "markdown",
      "metadata": {
        "id": "PU4Ael3tUFEj"
      },
      "source": [
        "## Importing the necessary packages"
      ]
    },
    {
      "cell_type": "code",
      "execution_count": 1,
      "metadata": {
        "id": "8RZOuS9LWQvv"
      },
      "outputs": [],
      "source": [
        "import tensorflow as tf\n",
        "import pandas as pd\n",
        "from tensorflow import keras\n",
        "import tensorflow_datasets as tfds\n",
        "import numpy as np\n",
        "import matplotlib.pyplot as plt\n"
      ]
    },
    {
      "cell_type": "markdown",
      "metadata": {
        "id": "IoYjcx-WUJk0"
      },
      "source": [
        "## Getting dataset"
      ]
    },
    {
      "cell_type": "code",
      "execution_count": null,
      "metadata": {
        "colab": {
          "base_uri": "https://localhost:8080/"
        },
        "id": "lMHwYXHXCar3",
        "outputId": "c06aba74-d9f5-4d9c-be59-c3efab914279"
      },
      "outputs": [],
      "source": [
        "# get data files\n",
        "!wget https://cdn.freecodecamp.org/project-data/sms/train-data.tsv\n",
        "!wget https://cdn.freecodecamp.org/project-data/sms/valid-data.tsv\n",
        "\n",
        "train_file_path = \"train-data.tsv\"\n",
        "test_file_path = \"valid-data.tsv\""
      ]
    },
    {
      "cell_type": "markdown",
      "metadata": {
        "id": "ERoCKGS5UVYc"
      },
      "source": [
        "## Loading Dataset into dataframe"
      ]
    },
    {
      "cell_type": "code",
      "execution_count": 3,
      "metadata": {
        "id": "bQXiZQCF7FoL"
      },
      "outputs": [],
      "source": [
        "col_names = ['label','messages']\n",
        "\n",
        "# Adding sep=\"\\t\" as data is in tsv format\n",
        "train_dataset = pd.read_csv(train_file_path,sep='\\t' ,names=col_names)\n",
        "test_dataset = pd.read_csv(test_file_path,sep='\\t', names=col_names)"
      ]
    },
    {
      "cell_type": "markdown",
      "metadata": {
        "id": "P3fUFitBUZy4"
      },
      "source": [
        "## Preprocessing Dataset\n",
        "\n",
        "When we look into our data using `head()` method we can see that we have two column \"messages\" and \"label\". And label define whether our message is spam or ham.\n",
        "\n",
        "We will encode ham as '0' and spam as '1'."
      ]
    },
    {
      "cell_type": "code",
      "execution_count": 4,
      "metadata": {
        "id": "FHGukLFxB4Tu"
      },
      "outputs": [],
      "source": [
        "label_dict = {\n",
        "    \"ham\":0,\n",
        "    \"spam\":1\n",
        "}\n",
        "\n",
        "train_dataset['msg_type'] = train_dataset['label'].map(label_dict)\n",
        "test_dataset['msg_type'] = train_dataset['label'].map(label_dict)"
      ]
    },
    {
      "cell_type": "code",
      "execution_count": 6,
      "metadata": {
        "id": "SgIPFMoeEUpd"
      },
      "outputs": [],
      "source": [
        "train_X = train_dataset['messages']\n",
        "train_y = train_dataset['msg_type']\n",
        "\n",
        "test_X = test_dataset['messages']\n",
        "test_y = test_dataset['msg_type']"
      ]
    },
    {
      "cell_type": "markdown",
      "metadata": {
        "id": "LQ-a4Sv1EuQS"
      },
      "source": [
        "## Tokenization\n"
      ]
    },
    {
      "cell_type": "code",
      "execution_count": 22,
      "metadata": {
        "id": "ahcRv1UTCiy5"
      },
      "outputs": [],
      "source": [
        "vocab_size = 700 # Setting some arbitary value\n",
        "\n",
        "tokenizer = tf.keras.preprocessing.text.Tokenizer(\n",
        "    num_words=vocab_size,\n",
        "    char_level=False,\n",
        "    oov_token=\"\",\n",
        ")\n",
        "\n",
        "tokenizer.fit_on_texts(train_X)"
      ]
    },
    {
      "cell_type": "code",
      "execution_count": null,
      "metadata": {
        "colab": {
          "base_uri": "https://localhost:8080/"
        },
        "id": "ECO7D1PLHSRX",
        "outputId": "00eba72a-a4f9-4f2a-d0b0-ebaab6efba38"
      },
      "outputs": [],
      "source": [
        "word_index = tokenizer.word_index\n",
        "print(\"Unique Words= \",len(word_index))"
      ]
    },
    {
      "cell_type": "markdown",
      "metadata": {
        "id": "Zld9m84vHtWb"
      },
      "source": [
        "## Sequencing and Padding"
      ]
    },
    {
      "cell_type": "code",
      "execution_count": 24,
      "metadata": {
        "id": "HxF91AazHv8B"
      },
      "outputs": [],
      "source": [
        "train_X_seq = tokenizer.texts_to_sequences(train_X)\n",
        "train_padding = keras.preprocessing.sequence.pad_sequences(train_X_seq, maxlen=50, \n",
        "                                                             padding=\"post\", truncating=\"post\")\n",
        "test_X_seq = tokenizer.texts_to_sequences(test_X)\n",
        "test_padding = keras.preprocessing.sequence.pad_sequences(test_X_seq, maxlen=50, \n",
        "                                                             padding=\"post\", truncating=\"post\")"
      ]
    },
    {
      "cell_type": "code",
      "execution_count": null,
      "metadata": {
        "colab": {
          "base_uri": "https://localhost:8080/"
        },
        "id": "xBpTDni8It17",
        "outputId": "7ef48e5a-e4c5-4ab0-e0b6-d854a8ef45e1"
      },
      "outputs": [],
      "source": [
        "train_padding.shape"
      ]
    },
    {
      "cell_type": "markdown",
      "metadata": {
        "id": "0lAG5yZWIvvw"
      },
      "source": [
        "## Creating a model"
      ]
    },
    {
      "cell_type": "code",
      "execution_count": 41,
      "metadata": {
        "id": "uHKXlLFrIyW5"
      },
      "outputs": [],
      "source": [
        "\n",
        "model = tf.keras.Sequential([\n",
        "  tf.keras.layers.Embedding(vocab_size, 50,input_length=50),\n",
        "  tf.keras.layers.GlobalAveragePooling1D(),\n",
        "  tf.keras.layers.Dense(24, activation='relu'),\n",
        "  tf.keras.layers.Dense(1,activation='sigmoid')])\n"
      ]
    },
    {
      "cell_type": "code",
      "execution_count": null,
      "metadata": {
        "colab": {
          "base_uri": "https://localhost:8080/"
        },
        "id": "lrGnL_nEJ0Za",
        "outputId": "1839c2cd-179e-424b-f9c8-a958ed60c93a"
      },
      "outputs": [],
      "source": [
        "model.summary()"
      ]
    },
    {
      "cell_type": "code",
      "execution_count": 43,
      "metadata": {
        "id": "bKrjLkXYJ4-Q"
      },
      "outputs": [],
      "source": [
        "model.compile(optimizer='adam',loss=\"binary_crossentropy\", metrics=['accuracy'])"
      ]
    },
    {
      "cell_type": "code",
      "execution_count": null,
      "metadata": {
        "colab": {
          "base_uri": "https://localhost:8080/"
        },
        "id": "GNxpaDHLKM7D",
        "outputId": "519f9619-3cba-47ad-e509-5ee2447dba3d"
      },
      "outputs": [],
      "source": [
        "model.fit(train_padding, train_y,epochs=20,validation_data=(test_padding,test_y))"
      ]
    },
    {
      "cell_type": "code",
      "execution_count": null,
      "metadata": {
        "colab": {
          "base_uri": "https://localhost:8080/"
        },
        "id": "FnIOPI-_ZfGK",
        "outputId": "2c87272b-5464-442e-e281-1ac786c167c2"
      },
      "outputs": [],
      "source": [
        "model.evaluate(test_padding, test_y)"
      ]
    },
    {
      "cell_type": "markdown",
      "metadata": {
        "id": "ECDp7_i0eF4u"
      },
      "source": [
        "## Predict Function"
      ]
    },
    {
      "cell_type": "code",
      "execution_count": null,
      "metadata": {
        "colab": {
          "base_uri": "https://localhost:8080/"
        },
        "id": "J9tD9yACG6M9",
        "outputId": "17befb4b-89fc-4115-f2e1-ba1b682cef51"
      },
      "outputs": [],
      "source": [
        "# function to predict messages based on model\n",
        "# (should return list containing prediction and label, ex. [0.008318834938108921, 'ham'])\n",
        "def predict_message(pred_text):\n",
        "    pred_text_tokenize = tokenizer.texts_to_sequences([pred_text])\n",
        "    pred_text_padding =  keras.preprocessing.sequence.pad_sequences(pred_text_tokenize, maxlen=50, \n",
        "                                                             padding=\"post\", truncating=\"post\")\n",
        "\n",
        "    predict = model.predict(pred_text_padding)[0][0]\n",
        "\n",
        "    if predict>0.5:\n",
        "        prediction = [predict,'spam']\n",
        "    else:\n",
        "        prediction = [predict,'ham']\n",
        "\n",
        "    return (prediction)\n",
        "\n",
        "pred_text = \"how are you doing today?\"\n",
        "\n",
        "prediction = predict_message(pred_text)\n",
        "print(prediction)"
      ]
    },
    {
      "cell_type": "markdown",
      "metadata": {
        "id": "Bun_FOmbeK78"
      },
      "source": [
        "## Test from freecode camp"
      ]
    },
    {
      "cell_type": "code",
      "execution_count": null,
      "metadata": {
        "colab": {
          "base_uri": "https://localhost:8080/"
        },
        "id": "Dxotov85SjsC",
        "outputId": "fc770ded-8abe-4e63-d6da-172b18337963"
      },
      "outputs": [],
      "source": [
        "# Run this cell to test your function and model. Do not modify contents.\n",
        "def test_predictions():\n",
        "  test_messages = [\"how are you doing today\",\n",
        "                   \"sale today! to stop texts call 98912460324\",\n",
        "                   \"i dont want to go. can we try it a different day? available sat\",\n",
        "                   \"our new mobile video service is live. just install on your phone to start watching.\",\n",
        "                   \"you have won £1000 cash! call to claim your prize.\",\n",
        "                   \"i'll bring it tomorrow. don't forget the milk.\",\n",
        "                   \"wow, is your arm alright. that happened to me one time too\"\n",
        "                  ]\n",
        "\n",
        "  test_answers = [\"ham\", \"spam\", \"ham\", \"spam\", \"spam\", \"ham\", \"ham\"]\n",
        "  passed = True\n",
        "\n",
        "  for msg, ans in zip(test_messages, test_answers):\n",
        "    prediction = predict_message(msg)\n",
        "    if prediction[1] != ans:\n",
        "      passed = False\n",
        "\n",
        "  if passed:\n",
        "    print(\"You passed the challenge. Great job!\")\n",
        "  else:\n",
        "    print(\"You haven't passed yet. Keep trying.\")\n",
        "\n",
        "test_predictions()\n"
      ]
    }
  ],
  "metadata": {
    "accelerator": "GPU",
    "colab": {
      "collapsed_sections": [
        "PU4Ael3tUFEj",
        "IoYjcx-WUJk0",
        "ERoCKGS5UVYc",
        "P3fUFitBUZy4",
        "LQ-a4Sv1EuQS",
        "Zld9m84vHtWb",
        "0lAG5yZWIvvw",
        "ECDp7_i0eF4u",
        "Bun_FOmbeK78"
      ],
      "gpuType": "T4",
      "provenance": []
    },
    "gpuClass": "standard",
    "kernelspec": {
      "display_name": "Python 3",
      "name": "python3"
    },
    "language_info": {
      "name": "python",
      "version": "3.10.6"
    }
  },
  "nbformat": 4,
  "nbformat_minor": 0
}
