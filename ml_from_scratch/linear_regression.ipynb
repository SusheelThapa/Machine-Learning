{
  "cells": [
    {
      "cell_type": "markdown",
      "metadata": {
        "colab_type": "text",
        "id": "view-in-github"
      },
      "source": [
        "<a href=\"https://colab.research.google.com/github/SusheelThapa/ML-From-Scratch/blob/linearRegression/linear_regression.ipynb\" target=\"_parent\"><img src=\"https://colab.research.google.com/assets/colab-badge.svg\" alt=\"Open In Colab\"/></a>"
      ]
    },
    {
      "cell_type": "markdown",
      "metadata": {
        "id": "rhej0ZPY9HaF"
      },
      "source": [
        "# Linear Regression"
      ]
    },
    {
      "cell_type": "markdown",
      "metadata": {
        "id": "gmI5GZJy_U08"
      },
      "source": [
        "## Algorithm for Linear Regression\n",
        "\n",
        "### Training\n",
        "- Initialize *weight* as zero\n",
        "- Initialzie *bias* as zero\n",
        "<br/>\n",
        "\n",
        "**Given a data point**\n",
        "- Predict result by using ***`y_hat = wx+b`***\n",
        "- Calculate ***mean_squared_error***\n",
        "- Use ***gradient descent*** to figure out new weight and bias values\n",
        "- Repeat n times\n",
        "\n",
        "### Updating the parameters\n",
        "\n",
        "***`w = w- learning_rate * dj_dw`***\n",
        "\n",
        "***`b = b- learning_rate * dj_db`***\n",
        "\n",
        "### Testing\n",
        "\n",
        "Given a data point\n",
        "- Put in the values from the data points into the equation ***`y_hat = wx+b`***\n",
        "\n"
      ]
    },
    {
      "cell_type": "markdown",
      "metadata": {
        "id": "_8vcC_wGU3YJ"
      },
      "source": [
        "## Coding the above algorithms"
      ]
    },
    {
      "cell_type": "markdown",
      "metadata": {
        "id": "X1J2Schz9WnQ"
      },
      "source": [
        "### Importing necessary modules"
      ]
    },
    {
      "cell_type": "code",
      "execution_count": null,
      "metadata": {
        "id": "9ioMNUOK9OgD"
      },
      "outputs": [],
      "source": [
        "import numpy as np\n",
        "import pandas as pd\n",
        "import matplotlib.pyplot as plt"
      ]
    },
    {
      "cell_type": "markdown",
      "metadata": {
        "id": "uwgTPWqEAtf4"
      },
      "source": [
        "### Writing the fit function"
      ]
    },
    {
      "cell_type": "code",
      "execution_count": null,
      "metadata": {
        "id": "PvdghajhAwsa"
      },
      "outputs": [],
      "source": [
        "def fit(X,y,learning_rate,number_of_iterations):\n",
        "    # Extracting the number of samples and features\n",
        "    n_samples,n_features = X.shape\n",
        "\n",
        "    # Initialize weights and bias with zeros\n",
        "    weights = np.zeros(n_features)\n",
        "    bias = 0\n",
        "\n",
        "    #Repeating for n times\n",
        "    for i in range(number_of_iterations):\n",
        "        # w1*x1 + w2*x2 +...wn*xn\n",
        "        y_pred = np.dot(X,weights) + bias\n",
        "\n",
        "        # Calculating partial derivative of cost function wrt to w and b\n",
        "        dj_dw = (1/n_samples)*np.dot(X.T,(y_pred -y))\n",
        "        dj_db = (1/n_samples)* np.sum(y_pred- y)\n",
        "\n",
        "        # Updating the value of w and b\n",
        "        weights = weights - learning_rate * dj_dw\n",
        "        bias = bias - learning_rate *dj_db\n",
        "    \n",
        "    return weights, bias\n"
      ]
    },
    {
      "cell_type": "markdown",
      "metadata": {
        "id": "c89odxR9Exux"
      },
      "source": [
        "### Writing the predict function"
      ]
    },
    {
      "cell_type": "code",
      "execution_count": null,
      "metadata": {
        "id": "TQUSL2HXCWBi"
      },
      "outputs": [],
      "source": [
        "def predict(X,W,b):\n",
        "    y_pred = np.dot(X,W) + b\n",
        "    return y_pred"
      ]
    },
    {
      "cell_type": "markdown",
      "metadata": {
        "id": "q_Zvei6kOVSK"
      },
      "source": [
        "### Feature Scaling of data "
      ]
    },
    {
      "cell_type": "code",
      "execution_count": null,
      "metadata": {
        "id": "DVWkjl6dQm_g"
      },
      "outputs": [],
      "source": [
        "def scaleData(X):\n",
        "    n_samples, n_features = X.shape\n",
        "\n",
        "    for i in range(n_features):\n",
        "        max_x= X[:,i].max()\n",
        "        X[:,i] = np.divide(X[:,i],max_x)\n",
        "    return X"
      ]
    },
    {
      "cell_type": "markdown",
      "metadata": {
        "id": "8uV_Jg8ycB7T"
      },
      "source": [
        "### Calculating mean sqaure error"
      ]
    },
    {
      "cell_type": "code",
      "execution_count": null,
      "metadata": {
        "id": "muvS98vWcFDE"
      },
      "outputs": [],
      "source": [
        "def mse(y_pred, y):\n",
        "    return np.mean((y - y_pred)**2)"
      ]
    },
    {
      "cell_type": "markdown",
      "metadata": {
        "id": "tfm4M1IRVcQR"
      },
      "source": [
        "## Testing the model with one feature dataset"
      ]
    },
    {
      "cell_type": "markdown",
      "metadata": {
        "id": "3bMpZ8l_FF4p"
      },
      "source": [
        "### Loading the datasets"
      ]
    },
    {
      "cell_type": "code",
      "execution_count": null,
      "metadata": {
        "id": "yTxHWVFWFIB5"
      },
      "outputs": [],
      "source": [
        "from sklearn.model_selection import train_test_split\n",
        "from sklearn import datasets\n",
        "\n",
        "X,y = datasets.make_regression(n_samples=100,n_features=1,noise=20,random_state=4)\n",
        "X_train, X_test,y_train, y_test = train_test_split(X,y,test_size=0.3,random_state=1234)"
      ]
    },
    {
      "cell_type": "markdown",
      "metadata": {
        "id": "61amnEAPFqNe"
      },
      "source": [
        "### Ploting the dataset without feature scaling"
      ]
    },
    {
      "cell_type": "code",
      "execution_count": null,
      "metadata": {
        "id": "amhec8bWFkkO"
      },
      "outputs": [],
      "source": [
        "plt.scatter(X[:,0],y,color='r',marker='X',s=3)\n",
        "plt.show()"
      ]
    },
    {
      "cell_type": "markdown",
      "metadata": {
        "id": "reZTnsx3Vmga"
      },
      "source": [
        "### Scaling the data"
      ]
    },
    {
      "cell_type": "code",
      "execution_count": null,
      "metadata": {
        "id": "VJtTqw2mVosl"
      },
      "outputs": [],
      "source": [
        "X_train = scaleData(X_train)\n",
        "X_test = scaleData(X_test)"
      ]
    },
    {
      "cell_type": "markdown",
      "metadata": {
        "id": "MfU6RDx0SJJc"
      },
      "source": [
        "### Plotting the data after feature scaling"
      ]
    },
    {
      "cell_type": "code",
      "execution_count": null,
      "metadata": {
        "id": "xY4mMColSM-7"
      },
      "outputs": [],
      "source": [
        "plt.scatter(X_train[:,0],y_train,color='r',marker='X',s=3)\n",
        "plt.show()"
      ]
    },
    {
      "cell_type": "markdown",
      "metadata": {
        "id": "zghueWdZGQyO"
      },
      "source": [
        "### Training the model"
      ]
    },
    {
      "cell_type": "code",
      "execution_count": null,
      "metadata": {
        "id": "8zruMEF9F9xQ"
      },
      "outputs": [],
      "source": [
        "W,b = fit(X_train,y_train,0.1,10000)"
      ]
    },
    {
      "cell_type": "markdown",
      "metadata": {
        "id": "MDswJJwXHUt9"
      },
      "source": [
        "### Testing the model"
      ]
    },
    {
      "cell_type": "code",
      "execution_count": null,
      "metadata": {
        "id": "qVJM0SABHPKK"
      },
      "outputs": [],
      "source": [
        "y_pred = predict(X_test,W,b)"
      ]
    },
    {
      "cell_type": "markdown",
      "metadata": {
        "id": "pcW-G5R0V9NT"
      },
      "source": [
        "### Ploting the line"
      ]
    },
    {
      "cell_type": "code",
      "execution_count": null,
      "metadata": {
        "id": "zWUut9NcHmG9"
      },
      "outputs": [],
      "source": [
        "plt.plot(X_test,y_pred,linewidth=3,color='black',label='Prediction')\n",
        "plt.scatter(X_train,y_train,color='r',marker='X',s=10,label='Training Data')\n",
        "plt.scatter(X_test,y_test,color='b',marker='o',s=10 , label=\"Testing Data\")\n",
        "plt.legend()\n",
        "plt.show()"
      ]
    },
    {
      "cell_type": "markdown",
      "metadata": {
        "id": "1AWi2IbzJgHR"
      },
      "source": [
        "### Calculating **mean squared error**"
      ]
    },
    {
      "cell_type": "code",
      "execution_count": null,
      "metadata": {
        "id": "NMcbQYoyH1UA"
      },
      "outputs": [],
      "source": [
        "mean_squared_error = mse(y_pred,y_test)\n",
        "print(mean_squared_error)"
      ]
    },
    {
      "cell_type": "markdown",
      "metadata": {
        "id": "uWpnYY-IWN4f"
      },
      "source": [
        "## Testing the model with more than one feature dataset"
      ]
    },
    {
      "cell_type": "markdown",
      "metadata": {
        "id": "I4E6y7ceaDSD"
      },
      "source": [
        "### Loading the datasets\n"
      ]
    },
    {
      "cell_type": "code",
      "execution_count": null,
      "metadata": {
        "id": "gUnzX3fzXbOm"
      },
      "outputs": [],
      "source": [
        "data = pd.read_excel('house_price.xlsx')\n",
        "\n",
        "# Seperating the X and y from the dataset\n",
        "X = data.loc[:,[\n",
        "    'X1 transaction date',\n",
        "    'X2 house age',\n",
        "    'X3 distance to the nearest MRT station',\n",
        "    'X4 number of convenience stores',\n",
        "    'X5 latitude',\n",
        "    'X6 longitude']]\n",
        "\n",
        "y = data.loc[:,'Y house price of unit area']\n",
        "\n",
        "# Converting the data into numpy array\n",
        "X = X.to_numpy()\n",
        "y = y.to_numpy()\n",
        "\n",
        "# Creating testing and training data\n",
        "X_train = X[:350]\n",
        "X_test = X[351:]\n",
        "y_train = y[:350]\n",
        "y_test = y[351:]"
      ]
    },
    {
      "cell_type": "markdown",
      "metadata": {
        "id": "wsrCwsCcappe"
      },
      "source": [
        "### Scaling the data"
      ]
    },
    {
      "cell_type": "code",
      "execution_count": null,
      "metadata": {
        "id": "bwpkGNi0an4q"
      },
      "outputs": [],
      "source": [
        "X_train = scaleData(X_train)\n",
        "X_test = scaleData(X_test)"
      ]
    },
    {
      "cell_type": "markdown",
      "metadata": {
        "id": "qwA1wyr_dL4E"
      },
      "source": [
        "### Ploting the dataset with individual features"
      ]
    },
    {
      "cell_type": "code",
      "execution_count": null,
      "metadata": {
        "id": "iLhLOw63dRNB"
      },
      "outputs": [],
      "source": [
        "n_samples, n_features = X_train.shape\n",
        "\n",
        "customize = {\n",
        "        \"title\" : ['Transaction Date',\n",
        "         'House age',\n",
        "         'Distance to the nearest MRT',\n",
        "         'Number of convenience store',\n",
        "         'Latitude',\n",
        "         'Longitude'],\n",
        "        \"color\":['red',\"blue\",'orange','lightgreen',\"coral\",\"brown\"],\n",
        "                }\n",
        "\n",
        "\n",
        "for i in range(n_features):\n",
        "    plt.scatter(X_train[:,i],y_train,color=customize[\"color\"][i],marker='o',s=20)\n",
        "    plt.title(customize[\"title\"][i])\n",
        "    plt.show()\n"
      ]
    },
    {
      "cell_type": "markdown",
      "metadata": {
        "id": "QDJjfnKobfrL"
      },
      "source": [
        "### Training the model"
      ]
    },
    {
      "cell_type": "code",
      "execution_count": null,
      "metadata": {
        "id": "RQrxOtjmbkXB"
      },
      "outputs": [],
      "source": [
        "W,b = fit(X_train,y_train,0.01,10000)"
      ]
    },
    {
      "cell_type": "markdown",
      "metadata": {
        "id": "iHaQ62dPbtyx"
      },
      "source": [
        "### Predicting the price of house"
      ]
    },
    {
      "cell_type": "code",
      "execution_count": null,
      "metadata": {
        "id": "iFgn6SQ_bsXi"
      },
      "outputs": [],
      "source": [
        "y_pred = predict(X_test,W,b)"
      ]
    },
    {
      "cell_type": "markdown",
      "metadata": {
        "id": "MgUsFf79b8IW"
      },
      "source": [
        "### Calculating mean square error"
      ]
    },
    {
      "cell_type": "code",
      "execution_count": null,
      "metadata": {
        "id": "xj59LJEGb7RT"
      },
      "outputs": [],
      "source": [
        "mean_squared_error = mse(y_pred, y_test)\n",
        "print(mean_squared_error)"
      ]
    }
  ],
  "metadata": {
    "colab": {
      "authorship_tag": "ABX9TyNuH5VP2LhlB1wvxvtSmh6V",
      "collapsed_sections": [
        "pcW-G5R0V9NT"
      ],
      "include_colab_link": true,
      "private_outputs": true,
      "provenance": []
    },
    "kernelspec": {
      "display_name": "Python 3",
      "name": "python3"
    },
    "language_info": {
      "name": "python",
      "version": "3.10.6"
    }
  },
  "nbformat": 4,
  "nbformat_minor": 0
}
