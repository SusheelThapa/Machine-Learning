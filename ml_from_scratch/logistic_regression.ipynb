{
  "nbformat": 4,
  "nbformat_minor": 0,
  "metadata": {
    "colab": {
      "private_outputs": true,
      "provenance": [],
      "authorship_tag": "ABX9TyPrEKits/H0DWo9sSxla41C",
      "include_colab_link": true
    },
    "kernelspec": {
      "name": "python3",
      "display_name": "Python 3"
    },
    "language_info": {
      "name": "python"
    }
  },
  "cells": [
    {
      "cell_type": "markdown",
      "metadata": {
        "id": "view-in-github",
        "colab_type": "text"
      },
      "source": [
        "<a href=\"https://colab.research.google.com/github/SusheelThapa/ML-From-Scratch/blob/logisticRegression/logistic_regression.ipynb\" target=\"_parent\"><img src=\"https://colab.research.google.com/assets/colab-badge.svg\" alt=\"Open In Colab\"/></a>"
      ]
    },
    {
      "cell_type": "markdown",
      "source": [
        "# Logistic Regression"
      ],
      "metadata": {
        "id": "LHWK4iJTzPlG"
      }
    },
    {
      "cell_type": "markdown",
      "source": [
        "\n",
        "## Algorithms"
      ],
      "metadata": {
        "id": "aQUryQHM7z4c"
      }
    },
    {
      "cell_type": "markdown",
      "source": [
        "\n",
        "### Steps\n",
        "\n",
        "#### Training\n",
        "- Intialize weights as zero\n",
        "- Intialize bias as zero\n",
        "\n",
        "**Given a data point:**\n",
        "- Predict result by using ***`y_hat = sigmoid(z)`***\n",
        "- Calculate error\n",
        "- Use gradient descent ot figure out new weight and bias values\n",
        "- Repeat n times\n",
        "\n",
        "### Testing\n",
        "Given a data point\n",
        "- Put the values from the data point into the equation ***`y_hat = sigmoid(z)`***\n",
        "- Choose the label based on the probability"
      ],
      "metadata": {
        "id": "ZPDr2W5w75Xj"
      }
    },
    {
      "cell_type": "markdown",
      "source": [
        "## Implementation of Algorithms"
      ],
      "metadata": {
        "id": "D2FIJ1gF0QXi"
      }
    },
    {
      "cell_type": "markdown",
      "source": [
        "### Importing the packages"
      ],
      "metadata": {
        "id": "tyI5ufkz0bmg"
      }
    },
    {
      "cell_type": "code",
      "source": [
        "import numpy as np\n",
        "import pandas as pd\n",
        "import matplotlib.pyplot as plt"
      ],
      "metadata": {
        "id": "VpiKdAHa0PKu"
      },
      "execution_count": null,
      "outputs": []
    },
    {
      "cell_type": "markdown",
      "source": [
        "### Supressing the warning"
      ],
      "metadata": {
        "id": "ntmBWZ5s89Ok"
      }
    },
    {
      "cell_type": "code",
      "source": [
        "import warnings\n",
        "\n",
        "# suppress warnings\n",
        "warnings.filterwarnings('ignore')"
      ],
      "metadata": {
        "id": "Tbmib1X39Btt"
      },
      "execution_count": null,
      "outputs": []
    },
    {
      "cell_type": "markdown",
      "source": [
        "### Defining a sigmoid function"
      ],
      "metadata": {
        "id": "-HT1yz8i1XOb"
      }
    },
    {
      "cell_type": "code",
      "source": [
        "def sigmoid(value):\n",
        "    return 1.0/ (1.0 + np.exp(-np.float128(value)))"
      ],
      "metadata": {
        "id": "5zJazzcf1Z66"
      },
      "execution_count": null,
      "outputs": []
    },
    {
      "cell_type": "markdown",
      "source": [
        "### Fitting the model"
      ],
      "metadata": {
        "id": "1UrxekxN0eHh"
      }
    },
    {
      "cell_type": "code",
      "source": [
        "def fit(X,y,learning_rate,iterations):\n",
        "    # Initialize the weight and bias to zero\n",
        "    n_samples, n_features = X.shape\n",
        "\n",
        "    weights = np.zeros(n_features)\n",
        "    bias = 0\n",
        "\n",
        "    for i in range(iterations):\n",
        "        z = np.dot(X,weights) +bias\n",
        "        y_pred = sigmoid(z)\n",
        "\n",
        "        # Calculate the gradient\n",
        "        dj_dw = (1/n_samples) * np.dot(X.T,(y_pred -y))\n",
        "        dj_db = (1/n_samples) * np.sum(y_pred -y)\n",
        "\n",
        "        # Updating the value of weights\n",
        "        weights = weights - learning_rate * dj_dw\n",
        "        bias  = bias - learning_rate * dj_db\n",
        "\n",
        "    return weights, bias"
      ],
      "metadata": {
        "id": "NyZaaV0y0awa"
      },
      "execution_count": null,
      "outputs": []
    },
    {
      "cell_type": "markdown",
      "source": [
        "### Predict the model"
      ],
      "metadata": {
        "id": "I9cxap6v2aK8"
      }
    },
    {
      "cell_type": "code",
      "source": [
        "def predict(X,weights,bias):\n",
        "    z = np.dot(X,weights) + bias\n",
        "    y_pred = sigmoid(z)\n",
        "\n",
        "    # Calculation of label\n",
        "    for i in range(len(y_pred)):\n",
        "        if y_pred[i] <= 0.5:\n",
        "            y_pred[i] = 0\n",
        "        else:\n",
        "            y_pred[i] = 1\n",
        "\n",
        "    return y_pred"
      ],
      "metadata": {
        "id": "lyIT2PfE2cCU"
      },
      "execution_count": null,
      "outputs": []
    },
    {
      "cell_type": "markdown",
      "source": [
        "### Calculating accuracy"
      ],
      "metadata": {
        "id": "1ID7UnfA5lFp"
      }
    },
    {
      "cell_type": "code",
      "source": [
        "def accuracy(y_pred, y_test):\n",
        "    return np.sum(y_pred == y_test)/len(y_test)"
      ],
      "metadata": {
        "id": "Vrf8cDn_5ogv"
      },
      "execution_count": null,
      "outputs": []
    },
    {
      "cell_type": "markdown",
      "source": [
        "## Testing the model with datasets"
      ],
      "metadata": {
        "id": "FXuo0OgZ8G5E"
      }
    },
    {
      "cell_type": "markdown",
      "source": [
        "### Loading the datasets"
      ],
      "metadata": {
        "id": "xx0YEJgZ8M32"
      }
    },
    {
      "cell_type": "code",
      "source": [
        "from sklearn.model_selection import train_test_split\n",
        "from sklearn import datasets\n",
        "\n",
        "bc = datasets.load_breast_cancer()\n",
        "\n",
        "X,y = bc.data,bc.target\n",
        "X_train , X_test, y_train, y_test = train_test_split(X,y,test_size=0.2,random_state=1234)"
      ],
      "metadata": {
        "id": "YhbxLVWP2zNp"
      },
      "execution_count": null,
      "outputs": []
    },
    {
      "cell_type": "markdown",
      "source": [
        "### Training the model"
      ],
      "metadata": {
        "id": "42QCnpAA8P4w"
      }
    },
    {
      "cell_type": "code",
      "source": [
        "W,b = fit(X_train, y_train,0.01,1000)"
      ],
      "metadata": {
        "id": "WJHN972N3Uyg"
      },
      "execution_count": null,
      "outputs": []
    },
    {
      "cell_type": "markdown",
      "source": [
        "### Predicting from the model"
      ],
      "metadata": {
        "id": "V0VELhEc8Smb"
      }
    },
    {
      "cell_type": "code",
      "source": [
        "y_pred = predict(X_test,W,b)"
      ],
      "metadata": {
        "id": "HUvxG6b53ijw"
      },
      "execution_count": null,
      "outputs": []
    },
    {
      "cell_type": "markdown",
      "source": [
        "### Calculating the accuracy"
      ],
      "metadata": {
        "id": "LRKf-B758XEo"
      }
    },
    {
      "cell_type": "code",
      "source": [
        "print(\"The accuracy of the model is \", accuracy(y_pred,y_test))"
      ],
      "metadata": {
        "id": "vcwaQrE05Vqj"
      },
      "execution_count": null,
      "outputs": []
    }
  ]
}