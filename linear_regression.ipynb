{
  "nbformat": 4,
  "nbformat_minor": 0,
  "metadata": {
    "colab": {
      "private_outputs": true,
      "provenance": [],
      "authorship_tag": "ABX9TyPXVG+C1LlrAJuANiL9cy69",
      "include_colab_link": true
    },
    "kernelspec": {
      "name": "python3",
      "display_name": "Python 3"
    },
    "language_info": {
      "name": "python"
    }
  },
  "cells": [
    {
      "cell_type": "markdown",
      "metadata": {
        "id": "view-in-github",
        "colab_type": "text"
      },
      "source": [
        "<a href=\"https://colab.research.google.com/github/SusheelThapa/ML-From-Scratch/blob/linearRegression/linear_regression.ipynb\" target=\"_parent\"><img src=\"https://colab.research.google.com/assets/colab-badge.svg\" alt=\"Open In Colab\"/></a>"
      ]
    },
    {
      "cell_type": "markdown",
      "source": [
        "# Linear Regression"
      ],
      "metadata": {
        "id": "rhej0ZPY9HaF"
      }
    },
    {
      "cell_type": "markdown",
      "source": [
        "## Steps\n",
        "### Training\n",
        "- Initialize weight as zero\n",
        "- Initialzie bias as zero\n",
        "#### Given a data point\n",
        "- Predict result by using ***`y_hat = wx+b`***\n",
        "- Calculate error\n",
        "- Use gradient descent to figure out new weight and bias values\n",
        "- Repeat n times\n",
        "### Testing\n",
        "Given a data point\n",
        "- Put in the values from the data points into the equation ***`y_hat = wx+b`***\n",
        "\n",
        "### Updating the parameters"
      ],
      "metadata": {
        "id": "gmI5GZJy_U08"
      }
    },
    {
      "cell_type": "markdown",
      "source": [
        "## Importing necessary modules"
      ],
      "metadata": {
        "id": "X1J2Schz9WnQ"
      }
    },
    {
      "cell_type": "code",
      "source": [
        "import numpy as np"
      ],
      "metadata": {
        "id": "9ioMNUOK9OgD"
      },
      "execution_count": null,
      "outputs": []
    },
    {
      "cell_type": "markdown",
      "source": [
        "## Writing the fit function"
      ],
      "metadata": {
        "id": "uwgTPWqEAtf4"
      }
    },
    {
      "cell_type": "code",
      "source": [
        "def fit(X,y,learning_rate,number_of_iterations):\n",
        "    # Extracting the number of samples and features\n",
        "    n_samples,n_features = X.shape\n",
        "\n",
        "    # Initialize weights and bias with zeros\n",
        "    weights = np.zeros(n_features)\n",
        "    bias = 0\n",
        "\n",
        "    #Repeating for n times\n",
        "    for i in range(number_of_iterations):\n",
        "        # w1*x1 + w2*x2 +...wn*xn\n",
        "        y_pred = np.dot(X,weights) + bias\n",
        "\n",
        "        # Calculating partial derivative of cost function wrt to w and b\n",
        "        dj_dw = (1/n_samples)*np.dot(X.T,(y_pred -y))\n",
        "        dj_db = (1/n_samples)* np.sum(y_pred- y)\n",
        "\n",
        "        # Updating the value of w and b\n",
        "        weights = weights - learning_rate * dj_dw\n",
        "        bias = bias - learning_rate *dj_db\n",
        "    \n",
        "    return weights, bias\n"
      ],
      "metadata": {
        "id": "PvdghajhAwsa"
      },
      "execution_count": null,
      "outputs": []
    },
    {
      "cell_type": "markdown",
      "source": [
        "## Writing the predict function"
      ],
      "metadata": {
        "id": "c89odxR9Exux"
      }
    },
    {
      "cell_type": "code",
      "source": [
        "def predict(X,W,b):\n",
        "    y_pred = np.dot(X,W) + b\n",
        "    return y_pred"
      ],
      "metadata": {
        "id": "TQUSL2HXCWBi"
      },
      "execution_count": null,
      "outputs": []
    },
    {
      "cell_type": "markdown",
      "source": [
        "### Loading the datasets"
      ],
      "metadata": {
        "id": "3bMpZ8l_FF4p"
      }
    },
    {
      "cell_type": "code",
      "source": [
        "from sklearn.model_selection import train_test_split\n",
        "from sklearn import datasets\n",
        "\n",
        "X,y = datasets.make_regression(n_samples=1000,n_features=1,noise=20,random_state=4)\n",
        "X_train, X_test,y_train, y_test = train_test_split(X,y,test_size=0.4,random_state=1234)"
      ],
      "metadata": {
        "id": "yTxHWVFWFIB5"
      },
      "execution_count": null,
      "outputs": []
    },
    {
      "cell_type": "markdown",
      "source": [
        "## Ploting the dataset"
      ],
      "metadata": {
        "id": "61amnEAPFqNe"
      }
    },
    {
      "cell_type": "code",
      "source": [
        "import matplotlib.pyplot as plt\n",
        "\n",
        "plt.scatter(X[:,0],y,color='r',marker='X',s=30)\n",
        "plt.show()"
      ],
      "metadata": {
        "id": "amhec8bWFkkO"
      },
      "execution_count": null,
      "outputs": []
    },
    {
      "cell_type": "markdown",
      "source": [
        "## Training the model"
      ],
      "metadata": {
        "id": "zghueWdZGQyO"
      }
    },
    {
      "cell_type": "code",
      "source": [
        "W,b = fit(X_train,y_train,0.1,100000)"
      ],
      "metadata": {
        "id": "8zruMEF9F9xQ"
      },
      "execution_count": null,
      "outputs": []
    },
    {
      "cell_type": "markdown",
      "source": [
        "## Testing the model"
      ],
      "metadata": {
        "id": "MDswJJwXHUt9"
      }
    },
    {
      "cell_type": "code",
      "source": [
        "y_pred = predict(X_test,W,b)"
      ],
      "metadata": {
        "id": "qVJM0SABHPKK"
      },
      "execution_count": null,
      "outputs": []
    },
    {
      "cell_type": "code",
      "source": [
        "plt.plot(X_test,y_pred,linewidth=3,color='black',label='Prediction')\n",
        "plt.scatter(X_train,y_train,color='r',marker='X',s=30)\n",
        "plt.scatter(X_test,y_test,color='b',marker='X',s=30)\n",
        "plt.show()"
      ],
      "metadata": {
        "id": "zWUut9NcHmG9"
      },
      "execution_count": null,
      "outputs": []
    },
    {
      "cell_type": "markdown",
      "source": [
        "### Calculating **mean squared error**"
      ],
      "metadata": {
        "id": "1AWi2IbzJgHR"
      }
    },
    {
      "cell_type": "code",
      "source": [
        "mean_squared_error = np.mean((y_test - y_pred)**2)\n",
        "print(mean_squared_error)"
      ],
      "metadata": {
        "id": "NMcbQYoyH1UA"
      },
      "execution_count": null,
      "outputs": []
    }
  ]
}